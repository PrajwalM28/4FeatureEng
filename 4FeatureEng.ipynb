{
 "cells": [
  {
   "cell_type": "markdown",
   "id": "a68b7758-34ab-4b4c-8f29-0cb17bdde753",
   "metadata": {},
   "source": [
    "# Q1.\n",
    "### What is data encoding? How is it useful in data science?"
   ]
  },
  {
   "cell_type": "markdown",
   "id": "b99319ca-d7cc-4331-b42b-12ed2412da70",
   "metadata": {},
   "source": [
    "- Data encoding refers to the process of converting data from one form to another, often involves converting categorical data into a numerical format. Data encoding is crucial because many machine learning models, especially those based on mathematical equations, require numerical input."
   ]
  },
  {
   "cell_type": "markdown",
   "id": "477d43fa-4ad3-422c-a43a-5aea111bebe3",
   "metadata": {},
   "source": [
    "# Q2.\n",
    "### What is nominal encoding? Provide an example of how you would use it in a real-world scenario."
   ]
  },
  {
   "cell_type": "markdown",
   "id": "5ceb705c-e98e-4c64-bac8-c17cc0ec528d",
   "metadata": {},
   "source": [
    "- Nominal encoding is a method of representing categorical data with discrete labels as unique numerical values, without implying any order or ranking among them. Example :  different types of fruits =  Apple as 1, Orange as 2, Banana as 3, and so on."
   ]
  },
  {
   "cell_type": "markdown",
   "id": "ec92b8ce-fba2-44d2-b994-33342c5ac497",
   "metadata": {},
   "source": [
    "# Q3.\n",
    "### In what situations is nominal encoding preferred over one-hot encoding? Provide a practical example."
   ]
  },
  {
   "cell_type": "markdown",
   "id": "b0329287-cc35-4eba-8b9f-f423ca331e09",
   "metadata": {},
   "source": [
    "-  when the categorical variable has a high cardinality (a large number of unique categories). One-hot encoding creates a binary column for each category, leading to a sparse matrix. In situations with many categories, this can result in a high-dimensional and computationally expensive dataset. For example, if you are dealing with country names in a dataset with hundreds of unique countries, nominal encoding might be preferred over one-hot encoding."
   ]
  },
  {
   "cell_type": "markdown",
   "id": "3f8b2d14-4ed2-4b02-b290-0d357faeb60a",
   "metadata": {},
   "source": [
    "# Q4.\n",
    "### Suppose you have a dataset containing categorical data with 5 unique values. Which encoding technique would you use to transform this data into a format suitable for machine learning algorithms? Explain why you made this choice."
   ]
  },
  {
   "cell_type": "markdown",
   "id": "c76c0109-5a66-4ea0-8e79-a82268f49d45",
   "metadata": {},
   "source": [
    "- If the categorical data has no  ranking, nominal encoding would be suitable. This is because nominal encoding assigns unique numerical values to each category without implying any order."
   ]
  },
  {
   "cell_type": "markdown",
   "id": "8b23cf8b-f336-4d77-95b5-59c94d982881",
   "metadata": {},
   "source": [
    "# Q5.\n",
    "###  In a machine learning project, you have a dataset with 1000 rows and 5 columns. Two of the columns are categorical, and the remaining three columns are numerical. If you were to use nominal encoding to transform the categorical data, how many new columns would be created? Show your calculations."
   ]
  },
  {
   "cell_type": "markdown",
   "id": "bc51fe87-f4b4-40db-9c96-ef8c3ce599c7",
   "metadata": {},
   "source": [
    "- If you use nominal encoding for a categorical variable with k unique values, you would create k new columns. Therefore, if you have two categorical columns each with 5 unique values, you would create 2 * 5 = 10 new columns."
   ]
  },
  {
   "cell_type": "markdown",
   "id": "3ae1dce3-169d-4530-9735-c102758bd91c",
   "metadata": {},
   "source": [
    "# Q6.\n",
    "###  You are working with a dataset containing information about different types of animals, including their species, habitat, and diet. Which encoding technique would you use to transform the categorical data into a format suitable for machine learning algorithms? Justify your answer."
   ]
  },
  {
   "cell_type": "markdown",
   "id": "d9b67bbd-08a8-4de7-8851-314c534822d0",
   "metadata": {},
   "source": [
    "-  I would use nominal encoding because the categorical variables  likely don't have an inherent order or ranking."
   ]
  },
  {
   "cell_type": "markdown",
   "id": "e59bb5a4-ad5a-4eb5-8f51-cf26133dd3fe",
   "metadata": {},
   "source": [
    "# Q7.\n",
    "### You are working on a project that involves predicting customer churn for a telecommunications company. You have a dataset with 5 features, including the customer's gender, age, contract type, monthly charges, and tenure. Which encoding technique(s) would you use to transform the categorical data into numerical data? Provide a step-by-step explanation of how you would implement the encoding."
   ]
  },
  {
   "cell_type": "markdown",
   "id": "bc6d6c5a-b373-41ee-ae5b-e37a62b91e98",
   "metadata": {},
   "source": [
    " I would use nominal encoding for gender and contract type.\n",
    " \n",
    " - Gender Encoding (Nominal): Assign numerical labels to genders (e.g., Male as 0, Female as 1)\n",
    " \n",
    " - Contract Type Encoding (Nominal): Assign numerical labels to contract types (e.g., Month-to-month as 0, One year as 1, Two years as 2).\n",
    " \n",
    " - Age , Monthly Charges and Tenure dont require encoding as they are already in numerical format."
   ]
  }
 ],
 "metadata": {
  "kernelspec": {
   "display_name": "Python 3 (ipykernel)",
   "language": "python",
   "name": "python3"
  },
  "language_info": {
   "codemirror_mode": {
    "name": "ipython",
    "version": 3
   },
   "file_extension": ".py",
   "mimetype": "text/x-python",
   "name": "python",
   "nbconvert_exporter": "python",
   "pygments_lexer": "ipython3",
   "version": "3.10.8"
  }
 },
 "nbformat": 4,
 "nbformat_minor": 5
}
